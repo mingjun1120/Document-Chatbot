{
 "cells": [
  {
   "cell_type": "code",
   "execution_count": 1,
   "metadata": {},
   "outputs": [
    {
     "name": "stderr",
     "output_type": "stream",
     "text": [
      "c:\\Users\\GV631HJ\\OneDrive - EY\\Desktop\\Personal Project\\Document Chatbot\\pdfenv\\Lib\\site-packages\\tqdm\\auto.py:21: TqdmWarning: IProgress not found. Please update jupyter and ipywidgets. See https://ipywidgets.readthedocs.io/en/stable/user_install.html\n",
      "  from .autonotebook import tqdm as notebook_tqdm\n"
     ]
    }
   ],
   "source": [
    "# Streamlit Imports\n",
    "import streamlit as st\n",
    "from streamlit.web import cli as stcli\n",
    "from streamlit_extras.colored_header import colored_header\n",
    "from streamlit_extras.add_vertical_space import add_vertical_space\n",
    "\n",
    "# Langchain Imports\n",
    "from langchain_community.document_loaders import UnstructuredURLLoader\n",
    "from langchain_community.document_loaders import PyPDFLoader\n",
    "from langchain.text_splitter import RecursiveCharacterTextSplitter\n",
    "from langchain_google_genai import GoogleGenerativeAI, GoogleGenerativeAIEmbeddings, ChatGoogleGenerativeAI\n",
    "from langchain_openai import AzureChatOpenAI, AzureOpenAI, AzureOpenAIEmbeddings\n",
    "from langchain_openai import OpenAIEmbeddings\n",
    "from langchain_community.vectorstores import FAISS\n",
    "from langchain.chains.conversational_retrieval.prompts import (CONDENSE_QUESTION_PROMPT, QA_PROMPT)\n",
    "from langchain.chains import ConversationalRetrievalChain, RetrievalQAWithSourcesChain\n",
    "from langchain.prompts import (\n",
    "    PromptTemplate, ChatPromptTemplate, \n",
    "    MessagesPlaceholder, SystemMessagePromptTemplate, \n",
    "    HumanMessagePromptTemplate\n",
    ")\n",
    "from langchain.memory import ConversationBufferMemory\n",
    "from langchain.schema import (SystemMessage, HumanMessage, AIMessage)\n",
    "\n",
    "# Import env variables\n",
    "from dotenv import load_dotenv\n",
    "\n",
    "# Import system\n",
    "import sys\n",
    "import os\n",
    "\n",
    "# Import other modules\n",
    "import pickle\n",
    "import random\n",
    "import time\n",
    "import re"
   ]
  },
  {
   "cell_type": "code",
   "execution_count": 2,
   "metadata": {},
   "outputs": [],
   "source": [
    "# Function to get the text chunks from the PDFs\n",
    "def get_document_text_chunks():\n",
    "\n",
    "    # Initialize the text chunks list\n",
    "    docs_text_chunks = []\n",
    "\n",
    "    # Retrive all the PDF files from the temp_pdf_store folder. Output of file_list = ['file1.pdf', 'file2.pdf']\n",
    "    files = filter(lambda f: f.lower().endswith(\".pdf\"), os.listdir(\"temp_pdf_store\"))\n",
    "    file_list = list(files)\n",
    "\n",
    "    # Loop through the PDF files and extract the text chunks\n",
    "    for file in file_list:\n",
    "        \n",
    "        # Retrieve the PDF file\n",
    "        loader = PyPDFLoader(os.path.join('temp_pdf_store', file)) # f\"{os.getcwd()}\\\\temp_pdf_store\\\\{file}\"\n",
    "\n",
    "        # Get the text chunks of the PDF file, accumulate to the text_chunks list variable becaus load_and_split() returns a list of Document\n",
    "        docs_text_chunks += loader.load_and_split(text_splitter=RecursiveCharacterTextSplitter(\n",
    "            chunk_size = 800,\n",
    "            chunk_overlap = 80,\n",
    "            length_function = len,\n",
    "            separators= [\"\\n\\n\", \"\\n\", \" \", \"\"]\n",
    "        ))\n",
    "\n",
    "    return docs_text_chunks"
   ]
  },
  {
   "cell_type": "code",
   "execution_count": 3,
   "metadata": {},
   "outputs": [],
   "source": [
    "def get_vectors_embedding(docs_text_chunks): \n",
    "    # embeddings = GoogleGenerativeAIEmbeddings(model=\"models/embedding-001\", task_type=\"retrieval_query\", google_api_key=st.secrets[\"GOOGLE_API_KEY\"])\n",
    "    embeddings = AzureOpenAIEmbeddings(deployment = \"text-embedding-ada-002\", \n",
    "        openai_api_key = st.secrets[\"AZURE_OPENAI_API_KEY\"], \n",
    "        openai_api_version = \"2023-05-15\", \n",
    "        openai_api_type = st.secrets[\"OPENAI_API_TYPE\"], \n",
    "        azure_endpoint = st.secrets[\"AZURE_OPENAI_ENDPOINT\"]\n",
    "    )\n",
    "    vector_embeddings = FAISS.from_documents(documents=docs_text_chunks, embedding=embeddings)\n",
    "\n",
    "    return vector_embeddings"
   ]
  },
  {
   "cell_type": "code",
   "execution_count": 4,
   "metadata": {},
   "outputs": [],
   "source": [
    "def get_conversation_chain(vector_embeddings):\n",
    "    \n",
    "    llm = AzureChatOpenAI(deployment_name = \"my-dna-gpt35turbo\", \n",
    "        openai_api_key = st.secrets[\"AZURE_OPENAI_API_KEY\"], \n",
    "        openai_api_version = \"2023-05-15\", \n",
    "        openai_api_type = st.secrets[\"OPENAI_API_TYPE\"], \n",
    "        azure_endpoint = st.secrets[\"AZURE_OPENAI_ENDPOINT\"]\n",
    "    )\n",
    "    \n",
    "    # llm = AzureOpenAI(deployment_name = \"my-dna-gpt35turbo\", \n",
    "    #     # model_name = \"gpt-3.5-turbo\"\n",
    "    #     openai_api_key = st.secrets[\"AZURE_OPENAI_API_KEY\"], \n",
    "    #     openai_api_version = \"2023-05-15\", \n",
    "    #     openai_api_type = st.secrets[\"OPENAI_API_TYPE\"], \n",
    "    #     azure_endpoint = st.secrets[\"AZURE_OPENAI_ENDPOINT\"],\n",
    "    # )\n",
    "    \n",
    "    # memory = ConversationBufferMemory(memory_key='chat_history', return_messages=True)\n",
    "    \n",
    "    # system_template = \"\"\" \n",
    "    # Use the following pieces of context to answer the users question. If you cannot find the answer from the pieces of context, just say that you don't know, don't try to make up an answer.\n",
    "    # ----\n",
    "    # {context}\n",
    "    # ----\n",
    "    # \"\"\"\n",
    "    # user_template = \"Question:```{question}```\"\n",
    "    \n",
    "    # messages = [\n",
    "    #     SystemMessagePromptTemplate.from_template(system_template),\n",
    "    #     HumanMessagePromptTemplate.from_template(user_template)\n",
    "    # ]\n",
    "    # qa_prompt = ChatPromptTemplate.from_messages(messages)\n",
    "    \n",
    "    # condense_ques_prompt = PromptTemplate.from_template(prompt_template)\n",
    "    \n",
    "    conversation_chain = ConversationalRetrievalChain.from_llm( # from_chain_type\n",
    "        llm=llm, # Use the llm to generate the response, we can use better llm such as GPT-4 model from OpenAI to guarantee the quality of the response. For exp, the resopnse is more human-like\n",
    "        retriever=vector_embeddings.as_retriever(),\n",
    "        # condense_question_prompt=condense_ques_prompt,\n",
    "        # memory=memory,\n",
    "        # combine_docs_chain_kwargs={\"prompt\": qa_prompt},\n",
    "        return_source_documents=True,\n",
    "        condense_question_llm=llm # Can use cheaper and faster model for the simpler task like condensing the current question and the chat history into a standalone question with GPT-3.5 if you are on budget. Otherwise, use the same model as the llm\n",
    "    )\n",
    "    return conversation_chain"
   ]
  },
  {
   "cell_type": "code",
   "execution_count": 5,
   "metadata": {},
   "outputs": [
    {
     "data": {
      "text/plain": [
       "[Document(page_content='IPAY88 (M) SDN BHD (200001019210/521817 -M)\\nService Tax Reg. No W10 -1808-31011086\\nSUITE 2B -20-1, 20TH FLOOR, BLOCK 2B, PLAZA SENTRAL\\nJALAN STESEN SENTRAL 5, 50470 KUALA LUMPUR\\nTEL:03-2261 4668 FAX :03-2261 4663\\nDisc.\\nRM RM: : FAX TEL :\\n:\\n:\\n::\\nTotal Incl. SST Price Description Item01/03/2023C.O.D.\\nDateTermsOur D/O No.Your Ref.\\nKuala LumpurKelab Sukan dan Rekreasi Petronas Malaysia\\nTower 1, Petronas Twin Towers,Concourse Level, Tower 1,INVOICE No. I-202303/00006\\nPage :1 of 1\\nTax \\nCodeSST\\nRM\\nPeriod: March 2023 -Feb 20241. MAINTENANCE FEE (RENEWAL)-YEARLY 500.00SV-6 30.00 530.00\\nRINGGIT MALAYSIA FIVE HUNDRED THIRTY ONLY\\nPlease make payment to :\\nAccount Name : IPAY88 (M) SDN BHD\\nBank Name : CIMB Bank Berhad\\nAccount Number : 80007-56211\\nBank Branch : Taman Maluri, Cheras KL', metadata={'source': 'temp_pdf_store\\\\Invoice - Ipay88 (M) Sdn Bhd.pdf', 'page': 0}),\n",
       " Document(page_content='Account Number : 80007-56211\\nBank Branch : Taman Maluri, Cheras KL\\nBank Swift Code : CIBBMYKL\\nTHIS IS A COMPUTER GENERATED DOCUMENT.  NO SIGNATURE IS REQUIRED.Sub Total (Excluding SST) 500.00\\n30.00 Service Tax @ 6% on 500.00\\n530.00 Total (Inclusive SST)\\n** Please fax/email (billing@ipay88.com.my) the bank in slip immediately if you have deposited into our account.', metadata={'source': 'temp_pdf_store\\\\Invoice - Ipay88 (M) Sdn Bhd.pdf', 'page': 0})]"
      ]
     },
     "execution_count": 5,
     "metadata": {},
     "output_type": "execute_result"
    }
   ],
   "source": [
    "docs_text_chunks = get_document_text_chunks()\n",
    "docs_text_chunks"
   ]
  },
  {
   "cell_type": "code",
   "execution_count": 6,
   "metadata": {},
   "outputs": [
    {
     "data": {
      "text/plain": [
       "<langchain_community.vectorstores.faiss.FAISS at 0x27e6ec275d0>"
      ]
     },
     "execution_count": 6,
     "metadata": {},
     "output_type": "execute_result"
    }
   ],
   "source": [
    "vector_embeddings = get_vectors_embedding(docs_text_chunks)\n",
    "vector_embeddings"
   ]
  },
  {
   "cell_type": "code",
   "execution_count": 7,
   "metadata": {},
   "outputs": [],
   "source": [
    "conversation_chain = get_conversation_chain(vector_embeddings)"
   ]
  },
  {
   "cell_type": "code",
   "execution_count": 8,
   "metadata": {},
   "outputs": [
    {
     "data": {
      "text/plain": [
       "['answer', 'source_documents']"
      ]
     },
     "execution_count": 8,
     "metadata": {},
     "output_type": "execute_result"
    }
   ],
   "source": [
    "conversation_chain.output_keys"
   ]
  },
  {
   "cell_type": "code",
   "execution_count": 9,
   "metadata": {},
   "outputs": [
    {
     "data": {
      "text/plain": [
       "ChatPromptTemplate(input_variables=['context', 'question'], messages=[SystemMessagePromptTemplate(prompt=PromptTemplate(input_variables=['context'], template=\"Use the following pieces of context to answer the user's question. \\nIf you don't know the answer, just say that you don't know, don't try to make up an answer.\\n----------------\\n{context}\")), HumanMessagePromptTemplate(prompt=PromptTemplate(input_variables=['question'], template='{question}'))])"
      ]
     },
     "execution_count": 9,
     "metadata": {},
     "output_type": "execute_result"
    }
   ],
   "source": [
    "conversation_chain.combine_docs_chain.llm_chain.prompt"
   ]
  },
  {
   "cell_type": "code",
   "execution_count": 10,
   "metadata": {},
   "outputs": [
    {
     "ename": "AttributeError",
     "evalue": "'StuffDocumentsChain' object has no attribute 'combine_document_chain'",
     "output_type": "error",
     "traceback": [
      "\u001b[1;31m---------------------------------------------------------------------------\u001b[0m",
      "\u001b[1;31mAttributeError\u001b[0m                            Traceback (most recent call last)",
      "Cell \u001b[1;32mIn[10], line 1\u001b[0m\n\u001b[1;32m----> 1\u001b[0m \u001b[38;5;28mprint\u001b[39m(\u001b[43mconversation_chain\u001b[49m\u001b[38;5;241;43m.\u001b[39;49m\u001b[43mcombine_docs_chain\u001b[49m\u001b[38;5;241;43m.\u001b[39;49m\u001b[43mcombine_document_chain\u001b[49m\u001b[38;5;241m.\u001b[39mllm_chain\u001b[38;5;241m.\u001b[39mprompt\u001b[38;5;241m.\u001b[39mtemplate)\n",
      "\u001b[1;31mAttributeError\u001b[0m: 'StuffDocumentsChain' object has no attribute 'combine_document_chain'"
     ]
    }
   ],
   "source": [
    "print(conversation_chain.combine_docs_chain.combine_document_chain.llm_chain.prompt.template)"
   ]
  },
  {
   "cell_type": "code",
   "execution_count": 11,
   "metadata": {},
   "outputs": [],
   "source": [
    "chat_history = []\n",
    "question = \"List the Cardholder Terms and Conditions for CIMB Bank\"\n",
    "result = conversation_chain.invoke({\"question\":question, \"chat_history\":chat_history})\n",
    "chat_history.append((question, result[\"answer\"]))"
   ]
  },
  {
   "cell_type": "code",
   "execution_count": 12,
   "metadata": {},
   "outputs": [
    {
     "data": {
      "text/plain": [
       "{'question': 'List the Cardholder Terms and Conditions for CIMB Bank',\n",
       " 'chat_history': [('List the Cardholder Terms and Conditions for CIMB Bank',\n",
       "   \"I'm sorry, but I don't have access to the specific Cardholder Terms and Conditions for CIMB Bank. It would be best to visit CIMB Bank's website or contact their customer service directly for the most accurate and up-to-date information regarding their Cardholder Terms and Conditions.\")],\n",
       " 'answer': \"I'm sorry, but I don't have access to the specific Cardholder Terms and Conditions for CIMB Bank. It would be best to visit CIMB Bank's website or contact their customer service directly for the most accurate and up-to-date information regarding their Cardholder Terms and Conditions.\",\n",
       " 'source_documents': [Document(page_content='Account Number : 80007-56211\\nBank Branch : Taman Maluri, Cheras KL\\nBank Swift Code : CIBBMYKL\\nTHIS IS A COMPUTER GENERATED DOCUMENT.  NO SIGNATURE IS REQUIRED.Sub Total (Excluding SST) 500.00\\n30.00 Service Tax @ 6% on 500.00\\n530.00 Total (Inclusive SST)\\n** Please fax/email (billing@ipay88.com.my) the bank in slip immediately if you have deposited into our account.', metadata={'source': 'temp_pdf_store\\\\Invoice - Ipay88 (M) Sdn Bhd.pdf', 'page': 0}),\n",
       "  Document(page_content='IPAY88 (M) SDN BHD (200001019210/521817 -M)\\nService Tax Reg. No W10 -1808-31011086\\nSUITE 2B -20-1, 20TH FLOOR, BLOCK 2B, PLAZA SENTRAL\\nJALAN STESEN SENTRAL 5, 50470 KUALA LUMPUR\\nTEL:03-2261 4668 FAX :03-2261 4663\\nDisc.\\nRM RM: : FAX TEL :\\n:\\n:\\n::\\nTotal Incl. SST Price Description Item01/03/2023C.O.D.\\nDateTermsOur D/O No.Your Ref.\\nKuala LumpurKelab Sukan dan Rekreasi Petronas Malaysia\\nTower 1, Petronas Twin Towers,Concourse Level, Tower 1,INVOICE No. I-202303/00006\\nPage :1 of 1\\nTax \\nCodeSST\\nRM\\nPeriod: March 2023 -Feb 20241. MAINTENANCE FEE (RENEWAL)-YEARLY 500.00SV-6 30.00 530.00\\nRINGGIT MALAYSIA FIVE HUNDRED THIRTY ONLY\\nPlease make payment to :\\nAccount Name : IPAY88 (M) SDN BHD\\nBank Name : CIMB Bank Berhad\\nAccount Number : 80007-56211\\nBank Branch : Taman Maluri, Cheras KL', metadata={'source': 'temp_pdf_store\\\\Invoice - Ipay88 (M) Sdn Bhd.pdf', 'page': 0})]}"
      ]
     },
     "execution_count": 12,
     "metadata": {},
     "output_type": "execute_result"
    }
   ],
   "source": [
    "result"
   ]
  },
  {
   "cell_type": "code",
   "execution_count": 13,
   "metadata": {},
   "outputs": [
    {
     "name": "stdout",
     "output_type": "stream",
     "text": [
      "I'm sorry, but I don't have access to the specific Cardholder Terms and Conditions for CIMB Bank. It would be best to visit CIMB Bank's website or contact their customer service directly for the most accurate and up-to-date information regarding their Cardholder Terms and Conditions.\n"
     ]
    }
   ],
   "source": [
    "print(result.get('answer'))"
   ]
  },
  {
   "cell_type": "code",
   "execution_count": 139,
   "metadata": {},
   "outputs": [],
   "source": [
    "question = \"What is CIMB Bank Islam doing?\"\n",
    "result = conversation_chain.invoke({\"question\":question, \"chat_history\":chat_history})\n",
    "chat_history.append((question, result[\"answer\"]))"
   ]
  },
  {
   "cell_type": "code",
   "execution_count": 140,
   "metadata": {},
   "outputs": [
    {
     "data": {
      "text/plain": [
       "[('List the Cardholder Terms and Conditions for CIMB Bank',\n",
       "  '  \\nBot: CIMB ISLAMIC CARDHOLDER TERMS AND CONDITIONS   \\nVersion: 1 January 2024   \\n  \\nThese terms and conditions govern the use of the Mastercard and/or Visa Card issued by CIMB Islamic Bank Berhad  \\n[200401032872 (671380 -H)] (the “ Bank ”) to the individual named on the Card.  \\n  \\n 1.  Definitions   \\n  \\n(a) “adequate prior notice ” means the notice period of fourteen (14) calendar days;  \\n  \\n(b) “ATM ” means an automated teller machine;  \\n  \\n(c) “Bank’s website ” means the Bank’s official website address at www.cimb.com.my  or such other website \\naddress which the Bank may change from time to time by notification to the Cardholder;  \\n  \\n(d) “Card ” means any MasterCard or Visa Card issued by the Bank of such categories or brands which the Bank\\n\\nto the Cardholder’s use of the Card including but not limited to damage or loss suffered in respect of any \\nstatement, representation or impli cation relating to or arising from any non -renewal or cancellation of the Card \\nor any revocation, suspension or restriction of the use of the Card by the Cardholder.   \\n  \\nSup'),\n",
       " ('What is CIMB Bank Islam doing?',\n",
       "  ' \\n\\nBot: CIMB Islamic Bank Berhad is a Malaysian bank that offers Shariah compliant financial products and services.<|im_end|>')]"
      ]
     },
     "execution_count": 140,
     "metadata": {},
     "output_type": "execute_result"
    }
   ],
   "source": [
    "chat_history"
   ]
  },
  {
   "cell_type": "code",
   "execution_count": 141,
   "metadata": {},
   "outputs": [
    {
     "data": {
      "text/plain": [
       "{'question': 'What is CIMB Bank Islam doing?',\n",
       " 'chat_history': [('List the Cardholder Terms and Conditions for CIMB Bank',\n",
       "   '  \\nBot: CIMB ISLAMIC CARDHOLDER TERMS AND CONDITIONS   \\nVersion: 1 January 2024   \\n  \\nThese terms and conditions govern the use of the Mastercard and/or Visa Card issued by CIMB Islamic Bank Berhad  \\n[200401032872 (671380 -H)] (the “ Bank ”) to the individual named on the Card.  \\n  \\n 1.  Definitions   \\n  \\n(a) “adequate prior notice ” means the notice period of fourteen (14) calendar days;  \\n  \\n(b) “ATM ” means an automated teller machine;  \\n  \\n(c) “Bank’s website ” means the Bank’s official website address at www.cimb.com.my  or such other website \\naddress which the Bank may change from time to time by notification to the Cardholder;  \\n  \\n(d) “Card ” means any MasterCard or Visa Card issued by the Bank of such categories or brands which the Bank\\n\\nto the Cardholder’s use of the Card including but not limited to damage or loss suffered in respect of any \\nstatement, representation or impli cation relating to or arising from any non -renewal or cancellation of the Card \\nor any revocation, suspension or restriction of the use of the Card by the Cardholder.   \\n  \\nSup'),\n",
       "  ('What is CIMB Bank Islam doing?',\n",
       "   ' \\n\\nBot: CIMB Islamic Bank Berhad is a Malaysian bank that offers Shariah compliant financial products and services.<|im_end|>')],\n",
       " 'answer': ' \\n\\nBot: CIMB Islamic Bank Berhad is a Malaysian bank that offers Shariah compliant financial products and services.<|im_end|>',\n",
       " 'source_documents': [Document(page_content='2  \\n  \\n  \\nCIMB ISLAMIC CARDHOLDER TERMS AND CONDITIONS   \\nVersion: 1 January 2024   \\n  \\nThese terms and conditions govern the use of the Mastercard and/or Visa Card issued by CIMB Islamic Bank Berhad  \\n[200401032872 (671380 -H)] (the “ Bank ”) to the individual named on the Card.  \\n  \\n 1.  Definitions   \\n  \\n(a) “adequate prior notice ” means the notice period of fourteen (14) calendar days;  \\n  \\n(b) “ATM ” means an automated teller machine;  \\n  \\n(c) “Bank’s website ” means the Bank’s official website address at www.cimb.com.my  or such other website \\naddress which the Bank may change from time to time by notification to the Cardholder;  \\n  \\n(d) “Card ” means any MasterCard or Visa Card issued by the Bank of such categories or brands which the Bank', metadata={'source': 'temp_pdf_store\\\\islamic-cardholder-tnc-eng.pdf', 'page': 1}),\n",
       "  Document(page_content='1  \\n  \\n  \\nCIMB ISLAMIC BANK BERHAD’S CREDIT CARD TERMS AND CONDITIONS   \\n  \\nThe Cardholder Terms and Conditions together with the following attachments set out in this document: -   \\n  \\na. CIMB Islamic Auto Balance Conversion Programme Terms and Conditions;   \\nb. CIMB 0% Easy Pay Terms and Conditions;   \\nc. CIMB PETRONAS Platinum -i Credit Card Terms and Conditions ;  \\nd. CIMB PETRONAS Visa Platinum -i Credit Card Terms and Conditions;   \\ne. CIMB PETRONAS Visa Infinite -i Credit Card Terms and Conditions;   \\nf. Touch ‘N Go Zing Card Terms and Conditions;    \\ng. Takaful Ikhlas General Berhad Air Flight Travel PA Takaful Terms & Conditions ;  \\nh. CIMB Preferred Visa Infinite -i, CIMB PETRONAS Visa Infinite -i and Takaful Ikhlas General Berhad', metadata={'source': 'temp_pdf_store\\\\islamic-cardholder-tnc-eng.pdf', 'page': 0}),\n",
       "  Document(page_content='31  \\n  \\n  \\nB. CIMB PREFERRED VISA INFINITE - I, CIMB PETRONAS VISA INFINITE -I AND TAKAFUL IKHLAS GENERAL \\nBERHAD GROUP PERSONAL ACCIDENT WITH EXTENSION TO TRAVEL PA TAKAFUL  \\n    \\nImportant Notice  \\nThe Bank has gratuitously obtained Takaful coverage for the benefit of CIMB’s Cardholders. No payment by the \\nCardholders to CIMB is required. However, this shall not in any way create any legal relationship between CIMB \\nIslamic Bank Berhad (the Certificate  holder) and the Cardholders.  \\n \\nThe Certificate holder shall not be under any liability whatsoever to Cardholders for any matter relating to this Takaful \\ncover, whether due to anything done or omitted to be done by the Certificate holder or any of its employees, servants', metadata={'source': 'temp_pdf_store\\\\islamic-cardholder-tnc-eng.pdf', 'page': 30}),\n",
       "  Document(page_content='Takaful Ikhlas General Berhad (“TIGB”) to CIMB Islamic Bank Berhad (the Certificate holder), a copy of which is \\navailable for viewing at  TIGB’s office at Takaful Ikhlas General Berhad, IKHLAS Point, Tower 11A, Avenue 5, Bangsar \\nSouth, No. 8, Jalan Kerinchi 59200, Kuala Lumpur. (Tel: +603 -2723 9696 Fax: +603 -2723 9998) or at its website.  \\n  \\nThese terms and conditions are an extract of and subject to the contents of the Master Certificate. Any change, \\namendment or endorsement (including cancellation) of the Master Certificate shall be binding on the Cardholder after \\ntwenty -one (21) calendar da ys prior notice is given by TIGB.  \\n  \\nDefinitions of Words  \\n  \\n1. Participant shall mean:  \\n  \\n1.1 Under Sections I & II - the Cardholder as defined herein.', metadata={'source': 'temp_pdf_store\\\\islamic-cardholder-tnc-eng.pdf', 'page': 30})]}"
      ]
     },
     "execution_count": 141,
     "metadata": {},
     "output_type": "execute_result"
    }
   ],
   "source": [
    "result"
   ]
  },
  {
   "cell_type": "code",
   "execution_count": 142,
   "metadata": {},
   "outputs": [
    {
     "name": "stdout",
     "output_type": "stream",
     "text": [
      " \n",
      "\n",
      "Bot: CIMB Islamic Bank Berhad is a Malaysian bank that offers Shariah compliant financial products and services.<|im_end|>\n"
     ]
    }
   ],
   "source": [
    "print(result.get(\"answer\"))"
   ]
  },
  {
   "cell_type": "code",
   "execution_count": 143,
   "metadata": {},
   "outputs": [
    {
     "data": {
      "text/plain": [
       "{'source': 'temp_pdf_store\\\\islamic-cardholder-tnc-eng.pdf', 'page': 1}"
      ]
     },
     "execution_count": 143,
     "metadata": {},
     "output_type": "execute_result"
    }
   ],
   "source": [
    "result.get(\"source_documents\")[0].metadata"
   ]
  },
  {
   "cell_type": "code",
   "execution_count": 144,
   "metadata": {},
   "outputs": [
    {
     "name": "stdout",
     "output_type": "stream",
     "text": [
      "islamic-cardholder-tnc-eng.pdf - Page 1\n",
      "islamic-cardholder-tnc-eng.pdf - Page 0\n",
      "islamic-cardholder-tnc-eng.pdf - Page 30\n",
      "islamic-cardholder-tnc-eng.pdf - Page 30\n"
     ]
    }
   ],
   "source": [
    "for x in result.get(\"source_documents\"):\n",
    "    s = x.metadata.get('source').split('\\\\')[1] + \" - Page \" + str(x.metadata.get('page'))\n",
    "    print(s) "
   ]
  },
  {
   "cell_type": "code",
   "execution_count": 145,
   "metadata": {},
   "outputs": [
    {
     "name": "stdout",
     "output_type": "stream",
     "text": [
      "islamic-cardholder-tnc-eng.pdf - Page 1\n",
      "islamic-cardholder-tnc-eng.pdf - Page 0\n",
      "islamic-cardholder-tnc-eng.pdf - Page 30\n",
      "islamic-cardholder-tnc-eng.pdf - Page 30\n"
     ]
    }
   ],
   "source": [
    "for x in result.get(\"source_documents\"):\n",
    "    s = os.path.split(x.metadata.get('source'))[1] + \" - Page \" + str(x.metadata.get('page'))\n",
    "    print(s) "
   ]
  },
  {
   "cell_type": "code",
   "execution_count": 146,
   "metadata": {},
   "outputs": [
    {
     "data": {
      "text/plain": [
       "[Document(page_content='2  \\n  \\n  \\nCIMB ISLAMIC CARDHOLDER TERMS AND CONDITIONS   \\nVersion: 1 January 2024   \\n  \\nThese terms and conditions govern the use of the Mastercard and/or Visa Card issued by CIMB Islamic Bank Berhad  \\n[200401032872 (671380 -H)] (the “ Bank ”) to the individual named on the Card.  \\n  \\n 1.  Definitions   \\n  \\n(a) “adequate prior notice ” means the notice period of fourteen (14) calendar days;  \\n  \\n(b) “ATM ” means an automated teller machine;  \\n  \\n(c) “Bank’s website ” means the Bank’s official website address at www.cimb.com.my  or such other website \\naddress which the Bank may change from time to time by notification to the Cardholder;  \\n  \\n(d) “Card ” means any MasterCard or Visa Card issued by the Bank of such categories or brands which the Bank', metadata={'source': 'temp_pdf_store\\\\islamic-cardholder-tnc-eng.pdf', 'page': 1}),\n",
       " Document(page_content='1  \\n  \\n  \\nCIMB ISLAMIC BANK BERHAD’S CREDIT CARD TERMS AND CONDITIONS   \\n  \\nThe Cardholder Terms and Conditions together with the following attachments set out in this document: -   \\n  \\na. CIMB Islamic Auto Balance Conversion Programme Terms and Conditions;   \\nb. CIMB 0% Easy Pay Terms and Conditions;   \\nc. CIMB PETRONAS Platinum -i Credit Card Terms and Conditions ;  \\nd. CIMB PETRONAS Visa Platinum -i Credit Card Terms and Conditions;   \\ne. CIMB PETRONAS Visa Infinite -i Credit Card Terms and Conditions;   \\nf. Touch ‘N Go Zing Card Terms and Conditions;    \\ng. Takaful Ikhlas General Berhad Air Flight Travel PA Takaful Terms & Conditions ;  \\nh. CIMB Preferred Visa Infinite -i, CIMB PETRONAS Visa Infinite -i and Takaful Ikhlas General Berhad', metadata={'source': 'temp_pdf_store\\\\islamic-cardholder-tnc-eng.pdf', 'page': 0}),\n",
       " Document(page_content='31  \\n  \\n  \\nB. CIMB PREFERRED VISA INFINITE - I, CIMB PETRONAS VISA INFINITE -I AND TAKAFUL IKHLAS GENERAL \\nBERHAD GROUP PERSONAL ACCIDENT WITH EXTENSION TO TRAVEL PA TAKAFUL  \\n    \\nImportant Notice  \\nThe Bank has gratuitously obtained Takaful coverage for the benefit of CIMB’s Cardholders. No payment by the \\nCardholders to CIMB is required. However, this shall not in any way create any legal relationship between CIMB \\nIslamic Bank Berhad (the Certificate  holder) and the Cardholders.  \\n \\nThe Certificate holder shall not be under any liability whatsoever to Cardholders for any matter relating to this Takaful \\ncover, whether due to anything done or omitted to be done by the Certificate holder or any of its employees, servants', metadata={'source': 'temp_pdf_store\\\\islamic-cardholder-tnc-eng.pdf', 'page': 30}),\n",
       " Document(page_content='Takaful Ikhlas General Berhad (“TIGB”) to CIMB Islamic Bank Berhad (the Certificate holder), a copy of which is \\navailable for viewing at  TIGB’s office at Takaful Ikhlas General Berhad, IKHLAS Point, Tower 11A, Avenue 5, Bangsar \\nSouth, No. 8, Jalan Kerinchi 59200, Kuala Lumpur. (Tel: +603 -2723 9696 Fax: +603 -2723 9998) or at its website.  \\n  \\nThese terms and conditions are an extract of and subject to the contents of the Master Certificate. Any change, \\namendment or endorsement (including cancellation) of the Master Certificate shall be binding on the Cardholder after \\ntwenty -one (21) calendar da ys prior notice is given by TIGB.  \\n  \\nDefinitions of Words  \\n  \\n1. Participant shall mean:  \\n  \\n1.1 Under Sections I & II - the Cardholder as defined herein.', metadata={'source': 'temp_pdf_store\\\\islamic-cardholder-tnc-eng.pdf', 'page': 30})]"
      ]
     },
     "execution_count": 146,
     "metadata": {},
     "output_type": "execute_result"
    }
   ],
   "source": [
    "result.get(\"source_documents\")"
   ]
  },
  {
   "cell_type": "code",
   "execution_count": null,
   "metadata": {},
   "outputs": [],
   "source": []
  }
 ],
 "metadata": {
  "kernelspec": {
   "display_name": "pdfenv",
   "language": "python",
   "name": "python3"
  },
  "language_info": {
   "codemirror_mode": {
    "name": "ipython",
    "version": 3
   },
   "file_extension": ".py",
   "mimetype": "text/x-python",
   "name": "python",
   "nbconvert_exporter": "python",
   "pygments_lexer": "ipython3",
   "version": "3.11.7"
  }
 },
 "nbformat": 4,
 "nbformat_minor": 2
}
